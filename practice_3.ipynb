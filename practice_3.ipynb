{
 "metadata": {
  "name": "practice_3.ipynb"
 },
 "nbformat": 3,
 "nbformat_minor": 0,
 "worksheets": [
  {
   "cells": [
    {
     "cell_type": "code",
     "collapsed": false,
     "input": [
      "import pandas as pd\n",
      "\n",
      "fileUrl = 'http://www3.cs.stonybrook.edu/~skiena/591/hw1/country-data.csv?accessType=DOWNLOAD'\n",
      "countryData_ = pd.read_csv(fileUrl)\n",
      "\n",
      "countryData_.replace(to_replace='unknown', value='NaN',inplace=True)\n",
      "countryData_.replace(to_replace='NaN', value=0,inplace=True)\n",
      "\n",
      "global countryData_g\n",
      "global countryData_l\n",
      "\n",
      "countryData_g = countryData_.copy()\n",
      "countryData_l = countryData_.copy()\n",
      "\n",
      "dateDownloaded = !date\n",
      "print ('\\nDate downloaded: ' + str(dateDownloaded))\n",
      "\n",
      "print(countryData_l['Renewable Water Resources (cu km)'])\n"
     ],
     "language": "python",
     "metadata": {},
     "outputs": []
    },
    {
     "cell_type": "raw",
     "metadata": {},
     "source": [
      "Linear Regression:"
     ]
    },
    {
     "cell_type": "code",
     "collapsed": false,
     "input": [
      "countryData_l['GDP'] = countryData_l['GDP (PPP) in US $'].astype(float)\n",
      "countryData_l['Water'] = countryData_l['Renewable Water Resources (cu km)'].astype(float)\n",
      "countryData_l['Labor'] = countryData_l['Labor Force'].astype(float)\n",
      "\n",
      "X1 = countryData_l['Water']\n",
      "y = countryData_l['GDP']\n",
      "X2 = countryData_l['Labor']\n",
      "\n",
      "print X1.shape\n",
      "print X2.shape\n",
      "print y.shape"
     ],
     "language": "python",
     "metadata": {},
     "outputs": []
    },
    {
     "cell_type": "code",
     "collapsed": false,
     "input": [
      "from sklearn.utils import shuffle\n",
      "X1, y = shuffle(X1, y, random_state=1)\n",
      "X2, y = shuffle(X2, y, random_state=1)\n",
      "\n",
      "print X1.shape\n",
      "print X2.shape\n",
      "print y.shape"
     ],
     "language": "python",
     "metadata": {},
     "outputs": []
    },
    {
     "cell_type": "code",
     "collapsed": false,
     "input": [
      "# Use only one column from data\n",
      "print(X1.shape)\n",
      "print(X2.shape)\n",
      "\n",
      "X1 = X1[::1]\n",
      "print(X1.shape)"
     ],
     "language": "python",
     "metadata": {},
     "outputs": []
    },
    {
     "cell_type": "code",
     "collapsed": false,
     "input": [
      "train_set_size = 170\n",
      "X1_train = X1[:train_set_size]  # selects first 250 rows (examples) for train set\n",
      "X1_test = X1[train_set_size:]   # selects from row 250 until the last one for test set\n",
      "print(X1_train.shape)\n",
      "print(X1_test.shape)\n",
      "\n",
      "X2_train = X2[:train_set_size]  # selects first 250 rows (examples) for train set\n",
      "X2_test = X2[train_set_size:]   # selects from row 250 until the last one for test set\n",
      "print(X2_train.shape)\n",
      "print(X2_test.shape)"
     ],
     "language": "python",
     "metadata": {},
     "outputs": []
    },
    {
     "cell_type": "code",
     "collapsed": false,
     "input": [
      "train_set_size = 170\n",
      "\n",
      "y_train = y[:train_set_size]   # selects first 250 rows (targets) for train set\n",
      "y_test = y[train_set_size:]    # selects from row 250 until the last one for test set\n",
      "print(y_train.shape)\n",
      "print(y_test.shape)"
     ],
     "language": "python",
     "metadata": {},
     "outputs": []
    },
    {
     "cell_type": "code",
     "collapsed": false,
     "input": [
      "plt.scatter(X1_train, y_train)\n",
      "plt.scatter(X1_test, y_test)\n",
      "plt.xlabel('Water')\n",
      "plt.ylabel('GDP')\n"
     ],
     "language": "python",
     "metadata": {},
     "outputs": []
    },
    {
     "cell_type": "code",
     "collapsed": false,
     "input": [
      "plt.scatter(X2_train, y_train)\n",
      "plt.scatter(X2_test, y_test)\n",
      "plt.xlabel('Labor')\n",
      "plt.ylabel('GDP')"
     ],
     "language": "python",
     "metadata": {},
     "outputs": []
    },
    {
     "cell_type": "heading",
     "level": 4,
     "metadata": {},
     "source": [
      "Linear Regression"
     ]
    },
    {
     "cell_type": "raw",
     "metadata": {},
     "source": [
      "There was a weird problem that I faced when trying to get the regr.fit working. The number of rows, number of columns, type of the contents were all same in both the X1_train and y_train. Still I got the \"Tuple index out of range\". Luckily I found this thread later and though why the problem got solved is still not clearly mentioned, I was able to solve the problem. The link goes here : http://sourceforge.net/p/scikit-learn/mailman/scikit-learn-general/thread/52620FAC.9070700@ais.uni-bonn.de/ "
     ]
    },
    {
     "cell_type": "code",
     "collapsed": false,
     "input": [
      "from sklearn import linear_model\n",
      "regr = linear_model.LinearRegression()"
     ],
     "language": "python",
     "metadata": {},
     "outputs": []
    },
    {
     "cell_type": "code",
     "collapsed": false,
     "input": [
      "aa1 = X1_train.reshape((X1_train.shape[0],-1))\n",
      "aa1_ = X1_test.reshape((X1_test.shape[0],-1))\n",
      "bb = y_train.reshape((y_train.shape[0],-1))\n",
      "regr.fit(aa1,bb)\n",
      "#regr.fit(X2_train, y_train)"
     ],
     "language": "python",
     "metadata": {},
     "outputs": []
    },
    {
     "cell_type": "code",
     "collapsed": false,
     "input": [
      "aa2 = X2_train.reshape((X2_train.shape[0],-1))\n",
      "aa2_ = X2_test.reshape((X2_test.shape[0],-1))\n",
      "bb_ = y_test.reshape((y_test.shape[0],-1))\n",
      "regr.fit(aa2,bb)"
     ],
     "language": "python",
     "metadata": {},
     "outputs": []
    },
    {
     "cell_type": "code",
     "collapsed": false,
     "input": [
      "print(regr.coef_)\n",
      "print(regr.intercept_)"
     ],
     "language": "python",
     "metadata": {},
     "outputs": []
    },
    {
     "cell_type": "code",
     "collapsed": false,
     "input": [
      "import numpy as np\n",
      "# The mean square error\n",
      "\n",
      "print(X1_train.shape)\n",
      "print(y_train.shape)\n",
      "print(\"Training error: \", np.mean((regr.predict(aa1) - bb) ** 2))\n",
      "print(\"Test     error: \", np.mean((regr.predict(aa1_) - bb_) ** 2))\n"
     ],
     "language": "python",
     "metadata": {},
     "outputs": []
    },
    {
     "cell_type": "code",
     "collapsed": false,
     "input": [
      "print(\"Training error: \", np.mean((regr.predict(aa2) - bb) ** 2))\n",
      "print(\"Test     error: \", np.mean((regr.predict(aa2_) - bb_) ** 2))"
     ],
     "language": "python",
     "metadata": {},
     "outputs": []
    },
    {
     "cell_type": "raw",
     "metadata": {},
     "source": [
      "Plotting data and linear model"
     ]
    },
    {
     "cell_type": "code",
     "collapsed": false,
     "input": [
      "# Visualises dots, where each dot represent a data exaple and corresponding teacher\n",
      "plt.scatter(aa1, bb,  color='black')\n",
      "# Plots the linear model\n",
      "plt.plot(aa1, regr.predict(aa1), color='blue', linewidth=3);\n",
      "plt.xlabel('Water')\n",
      "plt.ylabel('GDP')"
     ],
     "language": "python",
     "metadata": {},
     "outputs": []
    },
    {
     "cell_type": "code",
     "collapsed": false,
     "input": [
      "# Visualises dots, where each dot represent a data exaple and corresponding teacher\n",
      "plt.scatter(aa2, bb,  color='black')\n",
      "# Plots the linear model\n",
      "plt.plot(aa2, regr.predict(aa2), color='blue', linewidth=3);\n",
      "plt.xlabel('Labor')\n",
      "plt.ylabel('GDP')"
     ],
     "language": "python",
     "metadata": {},
     "outputs": []
    },
    {
     "cell_type": "code",
     "collapsed": false,
     "input": [
      "# Visualises dots, where each dot represent a data exaple and corresponding teacher\n",
      "plt.scatter(aa1_, bb_,  color='black')\n",
      "# Plots the linear model\n",
      "plt.plot(aa1_, regr.predict(aa1_), color='blue', linewidth=3);\n",
      "plt.xlabel('Water')\n",
      "plt.ylabel('GDP');"
     ],
     "language": "python",
     "metadata": {},
     "outputs": []
    },
    {
     "cell_type": "code",
     "collapsed": false,
     "input": [
      "# Visualises dots, where each dot represent a data exaple and corresponding teacher\n",
      "plt.scatter(aa2_, bb_,  color='black')\n",
      "# Plots the linear model\n",
      "plt.plot(aa2_, regr.predict(aa2_), color='blue', linewidth=3);\n",
      "plt.xlabel('Labor')\n",
      "plt.ylabel('GDP');"
     ],
     "language": "python",
     "metadata": {},
     "outputs": []
    },
    {
     "cell_type": "code",
     "collapsed": false,
     "input": [
      "import numpy as np\n",
      "import pandas as pd\n",
      "\n",
      "name_diff_df = pd.DataFrame(columns=['Country','Difference','Position','Rank'])\n",
      "\n",
      "#print(name_diff_df)\n",
      "\n",
      "#GDP and Labor\n",
      "# m = (change in y)/(change in x) = 0.5/5 = 0.1\n",
      "# c = 0.6\n",
      "# (y * 1e12) = - (0.1 * 1e8) x + 0.5 \n",
      "#print (type(countryData_l))\n",
      "\n",
      "print(' Prediction based on Labor ')\n",
      "\n",
      "data = countryData_l.copy()\n",
      "\n",
      "data.values\n",
      "data.columns\n",
      "data.index\n",
      "\n",
      "#print(data)\n",
      "\n",
      "for count in range(0,196):\n",
      "    #country = data.ix[count:count, 0:1]\n",
      "    \n",
      "    name = str(data['Country Name'].loc[count])\n",
      "    #print(type(name))\n",
      "    \n",
      "    #######################################################################\n",
      "    gdp_eq = data[['GDP']].loc[count] #finding gdp of individual countries\n",
      "    gdp_eq = float((gdp_eq) / (1e12))\n",
      "    #print(gdp_eq)\n",
      "    \n",
      "    water_eq = float(data[['Water']].loc[count]) #finding water resources of individual countries\n",
      "    #print(water_eq)\n",
      "    \n",
      "    labor_eq = float(data[['Labor']].loc[count]) #finding labor force of individual countries\n",
      "    labor_eq = labor_eq / (1e8)\n",
      "    #print(labor_eq)\n",
      "    \n",
      "    #######################################################################\n",
      "    \n",
      "    #print('###############')\n",
      "    gl_actual = gdp_eq #actual value of labor\n",
      "    #print(gl_actual)\n",
      "    gl_calc = -(0.1 * labor_eq) + 0.5 #calculated from eqn defined above\n",
      "    #print(gl_calc)\n",
      "    \n",
      "    #print(' ************* ')\n",
      "    difference = gl_actual - gl_calc\n",
      "    #print(difference)\n",
      "      \n",
      "    #print(str(name))\n",
      "    \n",
      "    name_diff_df.set_value(index=count, col='Country', value=str(name))\n",
      "    name_diff_df.set_value(index=count, col='Difference', value=float(difference))\n",
      "    if(difference > 0):\n",
      "            position = 1\n",
      "    else:\n",
      "            position = -1\n",
      "    name_diff_df.set_value(index=count, col='Position', value=int(position))\n",
      "    \n",
      "\n",
      "#scoring to see who is at the top and who is at the bottom\n",
      "name_diff_df['Above/Below'] = name_diff_df['Difference'].rank(ascending=False)  \n",
      "\n",
      "#display result\n",
      "result = name_diff_df[['Country','Difference','Position','Above/Below']].sort(columns='Above/Below')\n",
      "print(result)\n",
      "\n",
      "#print(name_diff_df)        "
     ],
     "language": "python",
     "metadata": {},
     "outputs": []
    },
    {
     "cell_type": "code",
     "collapsed": false,
     "input": [
      "#Renewable Water resources vs GDP\n",
      "\n",
      "import numpy as np\n",
      "import pandas as pd\n",
      "\n",
      "name_diff_df = pd.DataFrame(columns=['Country','Difference','Position','Rank'])\n",
      "\n",
      "#print(name_diff_df)\n",
      "\n",
      "#GDP and Labor\n",
      "# m = (change in y)/(change in x) = 0.5/5 = 0.1\n",
      "# c = 0\n",
      "# (y) = 0.6 \n",
      "#print (type(countryData_l))\n",
      "\n",
      "gl_calc = 0.6 #calculated from eqn defined above\n",
      "#print(gl_calc)\n",
      "\n",
      "print(' Prediction based on Renewable Water ')\n",
      "\n",
      "data = countryData_l.copy()\n",
      "\n",
      "data.values\n",
      "data.columns\n",
      "data.index\n",
      "\n",
      "#print(data)\n",
      "\n",
      "for count in range(0,196):\n",
      "    #country = data.ix[count:count, 0:1]\n",
      "    \n",
      "    name = str(data['Country Name'].loc[count])\n",
      "    #print(type(name))\n",
      "    \n",
      "    #######################################################################\n",
      "    gdp_eq = data[['GDP']].loc[count] #finding gdp of individual countries\n",
      "    gdp_eq = float((gdp_eq) / (1e12))\n",
      "    #print(gdp_eq)\n",
      "    \n",
      "    water_eq = float(data[['Water']].loc[count]) #finding water resources of individual countries\n",
      "    #print(water_eq)\n",
      "    \n",
      "    labor_eq = float(data[['Labor']].loc[count]) #finding labor force of individual countries\n",
      "    labor_eq = labor_eq / (1e8)\n",
      "    #print(labor_eq)\n",
      "    \n",
      "    #######################################################################\n",
      "    \n",
      "    #print('###############')\n",
      "    gl_actual = gdp_eq #actual value of labor\n",
      "    #print(gl_actual)\n",
      "    \n",
      "    #print(' ************* ')\n",
      "    difference = gl_actual - gl_calc\n",
      "    #print(difference)\n",
      "      \n",
      "    #print(str(name))\n",
      "    \n",
      "    name_diff_df.set_value(index=count, col='Country', value=str(name))\n",
      "    name_diff_df.set_value(index=count, col='Difference', value=float(difference))\n",
      "    if(difference > 0):\n",
      "            position = 1\n",
      "    else:\n",
      "            position = -1\n",
      "    name_diff_df.set_value(index=count, col='Position', value=int(position))\n",
      "    \n",
      "\n",
      "#scoring to see who is at the top and who is at the bottom\n",
      "name_diff_df['Above/Below'] = name_diff_df['Difference'].rank(ascending=False)  \n",
      "\n",
      "#display result\n",
      "result = name_diff_df[['Country','Difference','Position','Above/Below']].sort(columns='Above/Below')\n",
      "#print(result)\n",
      "\n",
      "print('Countries that are above the forecast')\n",
      "print(result.head())\n",
      "\n",
      "#print(name_diff_df)        "
     ],
     "language": "python",
     "metadata": {},
     "outputs": []
    },
    {
     "cell_type": "code",
     "collapsed": false,
     "input": [],
     "language": "python",
     "metadata": {},
     "outputs": []
    },
    {
     "cell_type": "code",
     "collapsed": false,
     "input": [],
     "language": "python",
     "metadata": {},
     "outputs": []
    },
    {
     "cell_type": "code",
     "collapsed": false,
     "input": [],
     "language": "python",
     "metadata": {},
     "outputs": []
    }
   ],
   "metadata": {}
  }
 ]
}