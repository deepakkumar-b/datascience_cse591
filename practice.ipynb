{
 "metadata": {
  "name": "practice.ipynb"
 },
 "nbformat": 3,
 "nbformat_minor": 0,
 "worksheets": [
  {
   "cells": [
    {
     "cell_type": "code",
     "collapsed": false,
     "input": [
      "import pandas as pd\n",
      "\n",
      "fileUrl = 'http://www3.cs.stonybrook.edu/~skiena/591/hw1/country-data.csv?accessType=DOWNLOAD'\n",
      "countryData_ = pd.read_csv(fileUrl)\n",
      "\n",
      "countryData_.replace(to_replace='unknown', value='NaN',inplace=True)\n",
      "countryData_.replace(to_replace='NaN', value=0,inplace=True)\n",
      "\n",
      "global countryData_g\n",
      "global countryData_l\n",
      "\n",
      "countryData_g = countryData_.copy()\n",
      "countryData_l = countryData_.copy()\n",
      "\n",
      "dateDownloaded = !date\n",
      "print '\\nDate downloaded: ' + str(dateDownloaded)\n",
      "\n",
      "print(countryData_l['Renewable Water Resources (cu km)'])\n"
     ],
     "language": "python",
     "metadata": {},
     "outputs": [
      {
       "output_type": "stream",
       "stream": "stdout",
       "text": [
        "\n",
        "Date downloaded: ['The current date is: Mon 09/15/2014 ', 'Enter the new date: (mm-dd-yy) ']\n",
        "0     65.33\n",
        "1      41.7\n",
        "2     11.67\n",
        "3         0\n",
        "4       148\n",
        "5      0.05\n",
        "6       814\n",
        "7      7.77\n",
        "8       492\n",
        "9      77.7\n",
        "10    34.68\n",
        "11     0.02\n",
        "12     0.12\n",
        "13     1227\n",
        "14     0.08\n",
        "...\n",
        "182        0\n",
        "183       66\n",
        "184    139.6\n",
        "185     0.15\n",
        "186      147\n",
        "187     3069\n",
        "188      139\n",
        "189    48.87\n",
        "190        0\n",
        "191     1233\n",
        "192    884.1\n",
        "193        0\n",
        "194      2.1\n",
        "195    105.2\n",
        "196       20\n",
        "Name: Renewable Water Resources (cu km), Length: 197, dtype: object"
       ]
      },
      {
       "output_type": "stream",
       "stream": "stdout",
       "text": [
        "\n"
       ]
      }
     ],
     "prompt_number": 1
    },
    {
     "cell_type": "code",
     "collapsed": false,
     "input": [
      "countryData_l['GDP'] = countryData_l['GDP (PPP) in US $'].astype(float)\n",
      "countryData_l['Water'] = countryData_l['Renewable Water Resources (cu km)'].astype(float)\n",
      "countryData_l['Labor'] = countryData_l['Labor Force'].astype(float)\n",
      "\n",
      "X1 = countryData_l['Water']\n",
      "y = countryData_l['GDP']\n",
      "X2 = countryData_l['Labor']\n",
      "\n",
      "print X1.shape\n",
      "print X2.shape\n",
      "print y.shape"
     ],
     "language": "python",
     "metadata": {},
     "outputs": [
      {
       "output_type": "stream",
       "stream": "stdout",
       "text": [
        "(197,)\n",
        "(197,)\n",
        "(197,)\n"
       ]
      }
     ],
     "prompt_number": 2
    },
    {
     "cell_type": "code",
     "collapsed": false,
     "input": [
      "from sklearn.utils import shuffle\n",
      "X1, y = shuffle(X1, y, random_state=1)\n",
      "X2, y = shuffle(X2, y, random_state=1)\n",
      "\n",
      "print X1.shape\n",
      "print X2.shape\n",
      "print y.shape"
     ],
     "language": "python",
     "metadata": {},
     "outputs": [
      {
       "output_type": "stream",
       "stream": "stdout",
       "text": [
        "(197L,)\n",
        "(197L,)\n",
        "(197L,)\n"
       ]
      }
     ],
     "prompt_number": 3
    },
    {
     "cell_type": "code",
     "collapsed": false,
     "input": [
      "# Use only one column from data\n",
      "print(X1.shape)\n",
      "print(X2.shape)\n",
      "\n",
      "#X1 = X1[::]\n",
      "print(X1.shape)"
     ],
     "language": "python",
     "metadata": {},
     "outputs": [
      {
       "output_type": "stream",
       "stream": "stdout",
       "text": [
        "(197L,)\n",
        "(197L,)\n",
        "(197L,)\n"
       ]
      }
     ],
     "prompt_number": 4
    },
    {
     "cell_type": "code",
     "collapsed": false,
     "input": [
      "train_set_size = 110\n",
      "X1_train = X1[:train_set_size]  # selects first 250 rows (examples) for train set\n",
      "X1_test = X1[train_set_size:]   # selects from row 250 until the last one for test set\n",
      "print(X1_train.shape)\n",
      "print(X1_test.shape)\n",
      "\n",
      "X2_train = X2[:train_set_size]  # selects first 250 rows (examples) for train set\n",
      "X2_test = X2[train_set_size:]   # selects from row 250 until the last one for test set\n",
      "print(X2_train.shape)\n",
      "print(X2_test.shape)"
     ],
     "language": "python",
     "metadata": {},
     "outputs": [
      {
       "output_type": "stream",
       "stream": "stdout",
       "text": [
        "(110L,)\n",
        "(87L,)\n",
        "(110L,)\n",
        "(87L,)\n"
       ]
      }
     ],
     "prompt_number": 5
    },
    {
     "cell_type": "code",
     "collapsed": false,
     "input": [
      "train_set_size = 110\n",
      "\n",
      "y_train = y[:train_set_size]   # selects first 250 rows (targets) for train set\n",
      "y_test = y[train_set_size:]    # selects from row 250 until the last one for test set\n",
      "print(y_train.shape)\n",
      "print(y_test.shape)"
     ],
     "language": "python",
     "metadata": {},
     "outputs": [
      {
       "output_type": "stream",
       "stream": "stdout",
       "text": [
        "(110L,)\n",
        "(87L,)\n"
       ]
      }
     ],
     "prompt_number": 6
    },
    {
     "cell_type": "code",
     "collapsed": false,
     "input": [
      "plt.scatter(X1_train, y_train)\n",
      "plt.scatter(X1_test, y_test)\n",
      "plt.xlabel('Water')\n",
      "plt.ylabel('GDP')\n"
     ],
     "language": "python",
     "metadata": {},
     "outputs": [
      {
       "metadata": {},
       "output_type": "pyout",
       "prompt_number": 7,
       "text": [
        "<matplotlib.text.Text at 0xa07d358>"
       ]
      },
      {
       "metadata": {},
       "output_type": "display_data",
       "png": "[encoded data removed]",
       "text": [
        "<matplotlib.figure.Figure at 0x7bc9dd8>"
       ]
      }
     ],
     "prompt_number": 7
    },
    {
     "cell_type": "code",
     "collapsed": false,
     "input": [
      "plt.scatter(X2_train, y_train)\n",
      "plt.scatter(X2_test, y_test)\n",
      "plt.xlabel('Labor')\n",
      "plt.ylabel('GDP')"
     ],
     "language": "python",
     "metadata": {},
     "outputs": [
      {
       "metadata": {},
       "output_type": "pyout",
       "prompt_number": 8,
       "text": [
        "<matplotlib.text.Text at 0xa079208>"
       ]
      },
      {
       "metadata": {},
       "output_type": "display_data",
       "png": "[encoded data removed]",
       "text": [
        "<matplotlib.figure.Figure at 0x7bc9f60>"
       ]
      }
     ],
     "prompt_number": 8
    },
    {
     "cell_type": "heading",
     "level": 5,
     "metadata": {},
     "source": [
      "Linear regression"
     ]
    },
    {
     "cell_type": "raw",
     "metadata": {},
     "source": [
      "There was a weird problem that I faced when trying to get the regr.fit working. The number of rows, number of columns, type of the contents were all same in both the X1_train and y_train. Still I got the \"Tuple index out of range\". Luckily I found this thread later and though why the problem got solved is still not clearly mentioned, I was able to solve the problem. The link goes here : http://sourceforge.net/p/scikit-learn/mailman/scikit-learn-general/thread/52620FAC.9070700@ais.uni-bonn.de/ "
     ]
    },
    {
     "cell_type": "code",
     "collapsed": false,
     "input": [
      "from sklearn import linear_model\n",
      "regr = linear_model.LinearRegression()"
     ],
     "language": "python",
     "metadata": {},
     "outputs": [],
     "prompt_number": 9
    },
    {
     "cell_type": "code",
     "collapsed": false,
     "input": [
      "#regr.fit(X1_train, y_train)\n"
     ],
     "language": "python",
     "metadata": {},
     "outputs": [],
     "prompt_number": 10
    },
    {
     "cell_type": "code",
     "collapsed": false,
     "input": [
      "aa1 = X1_train.reshape((X1_train.shape[0],-1))\n",
      "aa1_ = X1_test.reshape((X1_test.shape[0],-1))\n",
      "bb = y_train.reshape((y_train.shape[0],-1))\n",
      "regr.fit(aa1,bb)\n",
      "#regr.fit(X2_train, y_train)"
     ],
     "language": "python",
     "metadata": {},
     "outputs": [
      {
       "metadata": {},
       "output_type": "pyout",
       "prompt_number": 11,
       "text": [
        "LinearRegression(copy_X=True, fit_intercept=True, normalize=False)"
       ]
      }
     ],
     "prompt_number": 11
    },
    {
     "cell_type": "code",
     "collapsed": false,
     "input": [
      "aa2 = X2_train.reshape((X2_train.shape[0],-1))\n",
      "aa2_ = X2_test.reshape((X2_test.shape[0],-1))\n",
      "bb_ = y_test.reshape((y_test.shape[0],-1))\n",
      "regr.fit(aa2,bb)"
     ],
     "language": "python",
     "metadata": {},
     "outputs": [
      {
       "metadata": {},
       "output_type": "pyout",
       "prompt_number": 12,
       "text": [
        "LinearRegression(copy_X=True, fit_intercept=True, normalize=False)"
       ]
      }
     ],
     "prompt_number": 12
    },
    {
     "cell_type": "code",
     "collapsed": false,
     "input": [
      "print(regr.coef_)\n",
      "print(regr.intercept_)"
     ],
     "language": "python",
     "metadata": {},
     "outputs": [
      {
       "output_type": "stream",
       "stream": "stdout",
       "text": [
        "[[-1088.98720988]]\n",
        "[  6.21447965e+11]\n"
       ]
      }
     ],
     "prompt_number": 13
    },
    {
     "cell_type": "code",
     "collapsed": false,
     "input": [
      "import numpy as np\n",
      "# The mean square error\n",
      "\n",
      "print(X1_train.shape)\n",
      "print(y_train.shape)\n",
      "print(\"Training error: \", np.mean((regr.predict(aa1) - bb) ** 2))\n",
      "print(\"Test     error: \", np.mean((regr.predict(aa1_) - bb_) ** 2))\n"
     ],
     "language": "python",
     "metadata": {},
     "outputs": [
      {
       "output_type": "stream",
       "stream": "stdout",
       "text": [
        "(110L,)\n",
        "(110L,)\n",
        "('Training error: ', 4.5743856876874047e+24)\n",
        "('Test     error: ', 3.7100940150655248e+23)\n"
       ]
      }
     ],
     "prompt_number": 14
    },
    {
     "cell_type": "code",
     "collapsed": false,
     "input": [
      "print(\"Training error: \", np.mean((regr.predict(aa2) - bb) ** 2))\n",
      "print(\"Test     error: \", np.mean((regr.predict(aa2_) - bb_) ** 2))"
     ],
     "language": "python",
     "metadata": {},
     "outputs": [
      {
       "output_type": "stream",
       "stream": "stdout",
       "text": [
        "('Training error: ', 4.5668047945625935e+24)\n",
        "('Test     error: ', 3.7759560947004197e+23)\n"
       ]
      }
     ],
     "prompt_number": 15
    },
    {
     "cell_type": "raw",
     "metadata": {},
     "source": [
      "Plotting data and linear model"
     ]
    },
    {
     "cell_type": "code",
     "collapsed": false,
     "input": [
      "# Visualises dots, where each dot represent a data exaple and corresponding teacher\n",
      "plt.scatter(aa1, bb,  color='black')\n",
      "# Plots the linear model\n",
      "plt.plot(aa1, regr.predict(aa1), color='blue', linewidth=3);\n",
      "plt.xlabel('Water')\n",
      "plt.ylabel('GDP')"
     ],
     "language": "python",
     "metadata": {},
     "outputs": [
      {
       "metadata": {},
       "output_type": "pyout",
       "prompt_number": 16,
       "text": [
        "<matplotlib.text.Text at 0xe199198>"
       ]
      },
      {
       "metadata": {},
       "output_type": "display_data",
       "png": "[encoded data removed]",
       "text": [
        "<matplotlib.figure.Figure at 0xe104a90>"
       ]
      }
     ],
     "prompt_number": 16
    },
    {
     "cell_type": "code",
     "collapsed": false,
     "input": [
      "# Visualises dots, where each dot represent a data exaple and corresponding teacher\n",
      "plt.scatter(aa2, bb,  color='black')\n",
      "# Plots the linear model\n",
      "plt.plot(aa2, regr.predict(aa2), color='blue', linewidth=3);\n",
      "plt.xlabel('Labor')\n",
      "plt.ylabel('GDP')"
     ],
     "language": "python",
     "metadata": {},
     "outputs": [
      {
       "metadata": {},
       "output_type": "pyout",
       "prompt_number": 17,
       "text": [
        "<matplotlib.text.Text at 0xa1b8a90>"
       ]
      },
      {
       "metadata": {},
       "output_type": "display_data",
       "png": "[encoded data removed]",
       "text": [
        "<matplotlib.figure.Figure at 0xe1bb518>"
       ]
      }
     ],
     "prompt_number": 17
    },
    {
     "cell_type": "code",
     "collapsed": false,
     "input": [
      "# Visualises dots, where each dot represent a data exaple and corresponding teacher\n",
      "plt.scatter(aa1_, bb_,  color='black')\n",
      "# Plots the linear model\n",
      "plt.plot(aa1_, regr.predict(aa1_), color='blue', linewidth=3);\n",
      "plt.xlabel('Water')\n",
      "plt.ylabel('GDP');"
     ],
     "language": "python",
     "metadata": {},
     "outputs": [
      {
       "metadata": {},
       "output_type": "display_data",
       "png": "[encoded data removed]",
       "text": [
        "<matplotlib.figure.Figure at 0xe3bbd30>"
       ]
      }
     ],
     "prompt_number": 18
    },
    {
     "cell_type": "code",
     "collapsed": false,
     "input": [
      "# Visualises dots, where each dot represent a data exaple and corresponding teacher\n",
      "plt.scatter(aa2_, bb_,  color='black')\n",
      "# Plots the linear model\n",
      "plt.plot(aa2_, regr.predict(aa2_), color='blue', linewidth=3);\n",
      "plt.xlabel('Labor')\n",
      "plt.ylabel('GDP');"
     ],
     "language": "python",
     "metadata": {},
     "outputs": [
      {
       "metadata": {},
       "output_type": "display_data",
       "png": "[encoded data removed]",
       "text": [
        "<matplotlib.figure.Figure at 0xe3ecc88>"
       ]
      }
     ],
     "prompt_number": 19
    },
    {
     "cell_type": "code",
     "collapsed": false,
     "input": [
      "import numpy as np\n",
      "import pandas as pd\n",
      "\n",
      "name_diff_df = pd.DataFrame(columns=['Country','Difference','Position','Rank'])\n",
      "\n",
      "#print(name_diff_df)\n",
      "\n",
      "#GDP and Labor\n",
      "# m = (change in y)/(change in x) = 0.5/5 = 0.1\n",
      "# c = 0.6\n",
      "# (y * 1e12) = - (0.1 * 1e8) x + 0.5 \n",
      "#print (type(countryData_l))\n",
      "\n",
      "print(' Prediction based on Labor ')\n",
      "\n",
      "data = countryData_l.copy()\n",
      "\n",
      "data.values\n",
      "data.columns\n",
      "data.index\n",
      "\n",
      "#print(data)\n",
      "\n",
      "for count in range(0,196):\n",
      "    #country = data.ix[count:count, 0:1]\n",
      "    \n",
      "    name = str(data['Country Name'].loc[count])\n",
      "    #print(type(name))\n",
      "    \n",
      "    #######################################################################\n",
      "    gdp_eq = data[['GDP']].loc[count] #finding gdp of individual countries\n",
      "    gdp_eq = float((gdp_eq) / (1e12))\n",
      "    #print(gdp_eq)\n",
      "    \n",
      "    water_eq = float(data[['Water']].loc[count]) #finding water resources of individual countries\n",
      "    #print(water_eq)\n",
      "    \n",
      "    labor_eq = float(data[['Labor']].loc[count]) #finding labor force of individual countries\n",
      "    labor_eq = labor_eq / (1e8)\n",
      "    #print(labor_eq)\n",
      "    \n",
      "    #######################################################################\n",
      "    \n",
      "    #print('###############')\n",
      "    gl_actual = gdp_eq #actual value of labor\n",
      "    #print(gl_actual)\n",
      "    gl_calc = -(0.1 * labor_eq) + 0.5 #calculated from eqn defined above\n",
      "    #print(gl_calc)\n",
      "    \n",
      "    #print(' ************* ')\n",
      "    difference = gl_actual - gl_calc\n",
      "    #print(difference)\n",
      "      \n",
      "    #print(str(name))\n",
      "    \n",
      "    name_diff_df.set_value(index=count, col='Country', value=str(name))\n",
      "    name_diff_df.set_value(index=count, col='Difference', value=float(difference))\n",
      "    if(difference > 0):\n",
      "            position = 1\n",
      "    else:\n",
      "            position = -1\n",
      "    name_diff_df.set_value(index=count, col='Position', value=int(position))\n",
      "    \n",
      "\n",
      "#scoring to see who is at the top and who is at the bottom\n",
      "name_diff_df['Above/Below'] = name_diff_df['Difference'].rank(ascending=False)  \n",
      "\n",
      "#display result\n",
      "result = name_diff_df[['Country','Difference','Position','Above/Below']].sort(columns='Above/Below')\n",
      "print(result)\n",
      "\n",
      "#print(name_diff_df)        "
     ],
     "language": "python",
     "metadata": {},
     "outputs": [
      {
       "output_type": "stream",
       "stream": "stdout",
       "text": [
        " Prediction based on Labor \n",
        "                              Country Difference Position  Above/Below\n",
        "187                     United States    16.3754        1            1\n",
        "35                              China    13.6876        1            2\n",
        "76                              India     4.9773        1            3\n",
        "84                              Japan    4.29462        1            4\n",
        "63                            Germany     2.7712        1            5\n",
        "143                            Russia    2.12829        1            6\n",
        "23                             Brazil     2.0233        1            7\n",
        "186                    United Kingdom    1.91715        1            8\n",
        "59                             France    1.80594        1            9\n",
        "113                            Mexico    1.39648        1           10\n",
        "82                              Italy    1.33074        1           11\n",
        "90                       Korea, South    1.19186        1           12\n",
        "31                             Canada    1.03708        1           13\n",
        "163                             Spain     0.9122        1           14\n",
        "77                          Indonesia      0.905        1           15\n",
        "180                            Turkey    0.69491        1           16\n",
        "78                               Iran    0.51482        1           17\n",
        "8                           Australia    0.51074        1           18\n",
        "171                            Taiwan    0.43795        1           19\n",
        "151                      Saudi Arabia   0.436212        1           20\n",
        "139                            Poland    0.33222        1           21\n",
        "6                           Argentina    0.28832        1           22\n",
        "174                          Thailand    0.21238        1           23\n",
        "125                       Netherlands   0.207639        1           24\n",
        "132                          Pakistan    0.13331        1           25\n",
        "161                      South Africa    0.11424        1           26\n",
        "51                              Egypt    0.07909        1           27\n",
        "36                           Colombia    0.05025        1           28\n",
        "106                          Malaysia    0.03819        1           29\n",
        "129                           Nigeria    0.03003        1           30\n",
        "..                                ...        ...      ...          ...\n",
        "98                            Liberia   -0.49573       -1          167\n",
        "100                     Liechtenstein -0.4967642       -1          168\n",
        "107                          Maldives -0.4967673       -1          169\n",
        "17                             Belize -0.4967965       -1          170\n",
        "3                             Andorra -0.4968009       -1          171\n",
        "47                           Djibouti -0.4972004       -1          172\n",
        "70                      Guinea-Bissau -0.4973623       -1          173\n",
        "154                        Seychelles -0.4975564       -1          174\n",
        "28                         Cabo Verde -0.4975819       -1          175\n",
        "146                       Saint Lucia -0.4977043       -1          176\n",
        "66                          Greenland -0.4978384       -1          177\n",
        "159                   Solomon Islands -0.4978395       -1          178\n",
        "5                 Antigua and Barbuda   -0.49836       -1          179\n",
        "67                            Grenada -0.4984821       -1          180\n",
        "147  Saint Vincent and the Grenadines -0.4986075       -1          181\n",
        "190                           Vanuatu -0.4986141       -1          182\n",
        "149                        San Marino  -0.498672       -1          183\n",
        "148                             Samoa -0.4988071       -1          184\n",
        "37                            Comoros -0.4988555       -1          185\n",
        "193                    Western Sahara -0.4989495       -1          186\n",
        "48                           Dominica   -0.49896       -1          187\n",
        "145             Saint Kitts and Nevis -0.4990298       -1          188\n",
        "177                             Tonga  -0.499114       -1          189\n",
        "114   Micronesia, Federated States of -0.4992301       -1          190\n",
        "88                           Kiribati -0.4992941       -1          191\n",
        "110                  Marshall Islands -0.4995035       -1          192\n",
        "150             Sao Tome and Principe -0.4995265       -1          193\n",
        "133                             Palau -0.4997447       -1          194\n",
        "123                             Nauru   -0.49994       -1          195\n",
        "182                            Tuvalu -0.4999564       -1          196\n",
        "\n",
        "[196 rows x 4 columns]"
       ]
      },
      {
       "output_type": "stream",
       "stream": "stdout",
       "text": [
        "\n"
       ]
      }
     ],
     "prompt_number": 20
    },
    {
     "cell_type": "code",
     "collapsed": false,
     "input": [
      "#Renewable Water resources vs GDP\n",
      "\n",
      "import numpy as np\n",
      "import pandas as pd\n",
      "\n",
      "name_diff_df = pd.DataFrame(columns=['Country','Difference','Position','Rank'])\n",
      "\n",
      "#print(name_diff_df)\n",
      "\n",
      "#GDP and Labor\n",
      "# m = (change in y)/(change in x) = 0.5/5 = 0.1\n",
      "# c = 0\n",
      "# (y) = 0.6 \n",
      "#print (type(countryData_l))\n",
      "\n",
      "gl_calc = 0.6 #calculated from eqn defined above\n",
      "#print(gl_calc)\n",
      "\n",
      "print(' Prediction based on Renewable Water ')\n",
      "\n",
      "data = countryData_l.copy()\n",
      "\n",
      "data.values\n",
      "data.columns\n",
      "data.index\n",
      "\n",
      "#print(data)\n",
      "\n",
      "for count in range(0,196):\n",
      "    #country = data.ix[count:count, 0:1]\n",
      "    \n",
      "    name = str(data['Country Name'].loc[count])\n",
      "    #print(type(name))\n",
      "    \n",
      "    #######################################################################\n",
      "    gdp_eq = data[['GDP']].loc[count] #finding gdp of individual countries\n",
      "    gdp_eq = float((gdp_eq) / (1e12))\n",
      "    #print(gdp_eq)\n",
      "    \n",
      "    water_eq = float(data[['Water']].loc[count]) #finding water resources of individual countries\n",
      "    #print(water_eq)\n",
      "    \n",
      "    labor_eq = float(data[['Labor']].loc[count]) #finding labor force of individual countries\n",
      "    labor_eq = labor_eq / (1e8)\n",
      "    #print(labor_eq)\n",
      "    \n",
      "    #######################################################################\n",
      "    \n",
      "    #print('###############')\n",
      "    gl_actual = gdp_eq #actual value of labor\n",
      "    #print(gl_actual)\n",
      "    \n",
      "    #print(' ************* ')\n",
      "    difference = gl_actual - gl_calc\n",
      "    #print(difference)\n",
      "      \n",
      "    #print(str(name))\n",
      "    \n",
      "    name_diff_df.set_value(index=count, col='Country', value=str(name))\n",
      "    name_diff_df.set_value(index=count, col='Difference', value=float(difference))\n",
      "    if(difference > 0):\n",
      "            position = 1\n",
      "    else:\n",
      "            position = -1\n",
      "    name_diff_df.set_value(index=count, col='Position', value=int(position))\n",
      "    \n",
      "\n",
      "#scoring to see who is at the top and who is at the bottom\n",
      "name_diff_df['Above/Below'] = name_diff_df['Difference'].rank(ascending=False)  \n",
      "\n",
      "#display result\n",
      "result = name_diff_df[['Country','Difference','Position','Above/Below']].sort(columns='Above/Below')\n",
      "#print(result)\n",
      "\n",
      "print('Countries that are above the forecast')\n",
      "print(result.head())\n",
      "\n",
      "#print(name_diff_df)        \n"
     ],
     "language": "python",
     "metadata": {},
     "outputs": [
      {
       "output_type": "stream",
       "stream": "stdout",
       "text": [
        " Prediction based on Renewable Water \n",
        "Countries that are above the forecast"
       ]
      },
      {
       "output_type": "stream",
       "stream": "stdout",
       "text": [
        "\n",
        "           Country Difference Position  Above/Below\n",
        "187  United States      16.12        1            1\n",
        "35           China      12.79        1            2\n",
        "76           India       4.39        1            3\n",
        "84           Japan      4.129        1            4\n",
        "63         Germany      2.627        1            5\n"
       ]
      }
     ],
     "prompt_number": 21
    },
    {
     "cell_type": "code",
     "collapsed": false,
     "input": [],
     "language": "python",
     "metadata": {},
     "outputs": [],
     "prompt_number": 21
    },
    {
     "cell_type": "code",
     "collapsed": false,
     "input": [],
     "language": "python",
     "metadata": {},
     "outputs": [],
     "prompt_number": 21
    },
    {
     "cell_type": "code",
     "collapsed": false,
     "input": [],
     "language": "python",
     "metadata": {},
     "outputs": [],
     "prompt_number": 21
    }
   ],
   "metadata": {}
  }
 ]
}