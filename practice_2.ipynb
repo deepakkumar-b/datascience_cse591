{
 "metadata": {
  "name": "practice_2.ipynb"
 },
 "nbformat": 3,
 "nbformat_minor": 0,
 "worksheets": [
  {
   "cells": [
    {
     "cell_type": "code",
     "collapsed": false,
     "input": [
      "import numpy as np\n",
      "import pandas as pd\n",
      "from pandas import Series, DataFrame\n",
      "import matplotlib.pyplot as plt\n",
      "\n",
      "print (\"Task 2\\n\")\n",
      "#Read csv File into dataFrame\n",
      "dfCountries = pd.read_csv('country-data.csv', index_col='Country Name')\n",
      "\n",
      "targetColumns = [ \\\n",
      "                 'Population', \\\n",
      "                 'Life Expectancy', \\\n",
      "                 'GDP (PPP) in US $','Area (sq km)', \\\n",
      "                 'Land Boundaries (km)', \\\n",
      "                 'Coastline (km)', \\\n",
      "                 'Literacy Rate', \\\n",
      "                 'Health Expenditure/GDP', \\\n",
      "                 'Military Expenditure/GDP', \\\n",
      "                 'Renewable Water Resources (cu km)', \\\n",
      "                 'Net Migration Rate/1000 Population', \\\n",
      "                 'Labor Force', \\\n",
      "                 'Internet Users (circa 2009)', \\\n",
      "                 'Commercial Prime Lending Rate'\n",
      "                 ]\n",
      "dfCorrCoeff = pd.DataFrame(data=None, columns=['Column1','Column2','Correlation'])\n",
      "#print(dfCountries['Population'].corr(dfCountries['Life Expectancy']))\n",
      "\n",
      "for i in arange(size(targetColumns)):\n",
      "    #print(i)\n",
      "    for j in arange(i+1,size(targetColumns),1):\n",
      "        corelCoeff = dfCountries[targetColumns[i]].corr(dfCountries[targetColumns[j]])\n",
      "        if(corelCoeff < 0): corelCoeff = corelCoeff * -1\n",
      "        temp = np.asarray([targetColumns[i],targetColumns[j],corelCoeff])\n",
      "        dfCorrCoeff.loc[len(dfCorrCoeff)+1] = temp\n",
      "#print(dfCorrCoeff.sort(columns='Correlation'))\n",
      "print(\"Result\")\n",
      "res = dfCorrCoeff.sort(columns='Correlation')\n",
      "wkCor = res.head(n=1)\n",
      "\n",
      "print(\"\\nWeekest Correlation: \")\n",
      "print (res.head(n=1))\n",
      "print(\"\\nStrongest Correlation: \")\n",
      "print (res.tail(n=1))"
     ],
     "language": "python",
     "metadata": {},
     "outputs": []
    },
    {
     "cell_type": "code",
     "collapsed": false,
     "input": [
      "def shuffleAndCorr(df, orgCorr, runs=1, threshold=0.2, axis=0):     \n",
      "    df_sh = df.copy()\n",
      "    success_count = 0\n",
      "    for _ in range(runs):\n",
      "        df_sh.apply(np.random.shuffle, axis=axis)\n",
      "        newCor = df_sh['Col1'].corr(df_sh['Col2'])\n",
      "        if (newCor < 0): newCor = newCor * -1\n",
      "        #print(newCor)\n",
      "        diff = newCor - orgCorr\n",
      "        if (diff < 0): diff = diff * -1\n",
      "        #print(\"diff %f\" % diff)\n",
      "        if (diff < threshold): success_count = success_count + 1\n",
      "    #print success_count\n",
      "    p = success_count / runs\n",
      "    return [success_count,runs,p]\n",
      "\n",
      "finalRes = pd.DataFrame(data=None, columns=['Column1','Column2','Correlation','Count','runs','pValue'])\n",
      "\n",
      "for i in arange(size(targetColumns)): #arange(2):# arange(size(targetColumns)):\n",
      "    for j in arange(i+1,size(targetColumns),1): #arange(i+1,2,1): #arange(i+1,size(targetColumns),1):\n",
      "        orgCorr = dfCountries[targetColumns[i]].corr(dfCountries[targetColumns[j]])\n",
      "        temp_df = pd.DataFrame({'Col1':dfCountries[targetColumns[i]], \\\n",
      "                                'Col2':dfCountries[targetColumns[j]]})\n",
      "        #print \"Org Corr: %f\" % orgCorr\n",
      "        success_count,runs,pValue = shuffleAndCorr(temp_df, orgCorr, 20, 0.10)\n",
      "        \n",
      "        finalRes.loc[len(finalRes)+1] = np.asarray([targetColumns[i],targetColumns[j],\\\n",
      "                                                    orgCorr,success_count,runs,float(success_count)/runs ])\n",
      "sortedRes = finalRes[['Column1','Column2','pValue']].sort(columns='pValue') \n",
      "print(sortedRes)"
     ],
     "language": "python",
     "metadata": {},
     "outputs": []
    },
    {
     "cell_type": "code",
     "collapsed": false,
     "input": [
      "print(\"Conclusion\\n The 5 most significant (very low pValue) pairs are:\")\n",
      "print(sortedRes.head(n=5))\n",
      "print(\"\\nThe 5 least significant (very high pValue) pairs are:\")\n",
      "print(sortedRes.tail(n=5))"
     ],
     "language": "python",
     "metadata": {},
     "outputs": []
    },
    {
     "cell_type": "code",
     "collapsed": false,
     "input": [],
     "language": "python",
     "metadata": {},
     "outputs": []
    },
    {
     "cell_type": "code",
     "collapsed": false,
     "input": [],
     "language": "python",
     "metadata": {},
     "outputs": []
    },
    {
     "cell_type": "code",
     "collapsed": false,
     "input": [],
     "language": "python",
     "metadata": {},
     "outputs": []
    },
    {
     "cell_type": "code",
     "collapsed": false,
     "input": [],
     "language": "python",
     "metadata": {},
     "outputs": []
    },
    {
     "cell_type": "code",
     "collapsed": false,
     "input": [],
     "language": "python",
     "metadata": {},
     "outputs": []
    }
   ],
   "metadata": {}
  }
 ]
}