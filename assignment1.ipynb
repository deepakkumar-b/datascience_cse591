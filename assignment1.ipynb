{
 "metadata": {
  "name": "assignment1.ipynb"
 },
 "nbformat": 3,
 "nbformat_minor": 0,
 "worksheets": [
  {
   "cells": [
    {
     "cell_type": "code",
     "collapsed": false,
     "input": [
      "import pandas as pd\n",
      "\n",
      "fileUrl = 'http://www3.cs.stonybrook.edu/~skiena/591/hw1/country-data.csv?accessType=DOWNLOAD'\n",
      "countryData = pd.read_csv(fileUrl)\n",
      "\n",
      "# save data locally\n",
      "countryData.to_csv('data1/country_op.csv', index=False)\n",
      "\n",
      "countryData_g = countryData.copy()\n",
      "\n",
      "!ls data #listing foler contents\n",
      "\n",
      "dateDownloaded = !date\n",
      "print '\\nDate downloaded: ' + str(dateDownloaded)\n"
     ],
     "language": "python",
     "metadata": {},
     "outputs": []
    },
    {
     "cell_type": "raw",
     "metadata": {},
     "source": [
      "Linear Regression:"
     ]
    },
    {
     "cell_type": "code",
     "collapsed": false,
     "input": [
      "engine = 'python'\n",
      "import pandas as pd\n",
      "import numpy as np\n",
      "from pandas.stats.api import ols\n",
      "\n",
      "fileUrl = 'http://www3.cs.stonybrook.edu/~skiena/591/hw1/country-data.csv?accessType=DOWNLOAD'\n",
      "\n",
      "COLUMN_SEPARATOR = '  '\n",
      "\n",
      "#countryData1 = pd.read_csv(fileUrl) \n",
      "#type(housing_data)\n",
      "\n",
      "countryData1 = pd.DataFrame.from_csv(path = fileUrl)\n",
      "\n",
      "#,sep=COLUMN_SEPARATOR, header=None)\n",
      "#print(countryData1)\n",
      "\n",
      "#AREA_INDEX = 4\n",
      "#SELLING_PRICE_INDEX = 13\n",
      "gdp = remove_unknown('GDP (PPP) in US $');\n",
      "labor = remove_unknown('Labor Force');\n",
      "water = remove_unknown('Renewable Water Resources (cu km)');\n",
      "\n",
      "#data = merge(labor, water, left_index=True, right_index=True, how='outer')\n",
      "data = labor.append(water, ignore_index=True)\n",
      "print(data)\n",
      "\n",
      "#res = ols(y=countryData['GDP (PPP) in US $'], x=countryData[['Labor Force','Internet Users (circa 2009)']])\n",
      "\n",
      "res = ols(y=gdp['GDP (PPP) in US $'], x=data[['Labor Force','Renewable Water Resources (cu km)']])\n",
      "print(res)\n",
      "\n",
      "#x = countryData['GDP (PPP) in US $']\n",
      "#print(\"x is : %s\" % type(x))\n",
      "\n",
      "#y = countryData['Labor Force']\n",
      "#print(\"y is : \")\n",
      "#type(y)\n",
      "#regression = np.polyfit(x, y)"
     ],
     "language": "python",
     "metadata": {},
     "outputs": []
    }
   ],
   "metadata": {}
  }
 ]
}